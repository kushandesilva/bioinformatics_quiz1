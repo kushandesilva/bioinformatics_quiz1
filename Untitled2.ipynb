{
 "cells": [
  {
   "cell_type": "code",
   "execution_count": 2,
   "metadata": {},
   "outputs": [
    {
     "data": {
      "text/plain": [
       "'CCCATTC'"
      ]
     },
     "execution_count": 2,
     "metadata": {},
     "output_type": "execute_result"
    }
   ],
   "source": [
    "#Return a sequence for each number\n",
    "#index is an integer that stands for the sequence\n",
    "#k is how long the sequence is (integer)\n",
    "def NumberToPattern(index, k):\n",
    "    num = index\n",
    "    rem = 0 #the remainder\n",
    "    pattern = \"\"\n",
    "    q = k - 1 #set how many iterations to cycle through\n",
    "    while q >= 0:\n",
    "        rem = num%4 #get the remainder of the input number\n",
    "        num = num/4 #reset the next input number to be the previous value divded by 4\n",
    "        if rem < 1: #depending on what the remainder is, get a different letter output\n",
    "            pattern += \"A\"\n",
    "        if rem <2 and rem >=1:\n",
    "            pattern += \"C\"\n",
    "        if rem <3 and rem >= 2:\n",
    "            pattern += \"G\"\n",
    "        if rem < 4 and rem >=3:\n",
    "            pattern += \"T\"\n",
    "        q -= 1\n",
    "    pattern2 = pattern[::-1] #reverse the pattern\n",
    "    return pattern2\n",
    "\n",
    "NumberToPattern(5437, 7)"
   ]
  },
  {
   "cell_type": "code",
   "execution_count": 3,
   "metadata": {},
   "outputs": [
    {
     "name": "stdout",
     "output_type": "stream",
     "text": [
      "912\n"
     ]
    }
   ],
   "source": [
    "#Assign a pattern to a number to supposedly save memory\n",
    "#pattern is a sequence (string)\n",
    "def PatternToNumber(pattern):\n",
    "    pattern = pattern[::-1] #reverse the sequence\n",
    "    q = len(pattern) - 1 #set a number to count down for the number of iterations\n",
    "    number = 0\n",
    "    while q >= 0 : #different sequence values equal different numbers\n",
    "        if pattern[q] == 'A':\n",
    "            num = 0\n",
    "        if pattern[q] == 'C':\n",
    "            num = 1\n",
    "        if pattern[q] == 'G':\n",
    "            num = 2\n",
    "        if pattern[q] == 'T':\n",
    "            num = 3\n",
    "        number += (num * (4**q)) #keep adding a value for each sequence and position\n",
    "        q -= 1\n",
    "    return(number)\n",
    "\n",
    "pattern = \"ATGCAA\"\n",
    "print(PatternToNumber(pattern))"
   ]
  },
  {
   "cell_type": "code",
   "execution_count": 5,
   "metadata": {},
   "outputs": [
    {
     "name": "stdout",
     "output_type": "stream",
     "text": [
      "1056397150109\n"
     ]
    }
   ],
   "source": [
    "#Assign a pattern to a number to supposedly save memory\n",
    "#pattern is a sequence (string)\n",
    "def PatternToNumber(pattern):\n",
    "    pattern = pattern[::-1] #reverse the sequence\n",
    "    q = len(pattern) - 1 #set a number to count down for the number of iterations\n",
    "    number = 0\n",
    "    while q >= 0 : #different sequence values equal different numbers\n",
    "        if pattern[q] == 'A':\n",
    "            num = 0\n",
    "        if pattern[q] == 'C':\n",
    "            num = 1\n",
    "        if pattern[q] == 'G':\n",
    "            num = 2\n",
    "        if pattern[q] == 'T':\n",
    "            num = 3\n",
    "        number += (num * (4**q)) #keep adding a value for each sequence and position\n",
    "        q -= 1\n",
    "    return(number)\n",
    "\n",
    "pattern = \"TTCCTTCGAGTCCACTGCTC\"\n",
    "print(PatternToNumber(pattern))"
   ]
  },
  {
   "cell_type": "code",
   "execution_count": 6,
   "metadata": {},
   "outputs": [
    {
     "data": {
      "text/plain": [
       "'AGTC'"
      ]
     },
     "execution_count": 6,
     "metadata": {},
     "output_type": "execute_result"
    }
   ],
   "source": [
    "#Return a sequence for each number\n",
    "#index is an integer that stands for the sequence\n",
    "#k is how long the sequence is (integer)\n",
    "def NumberToPattern(index, k):\n",
    "    num = index\n",
    "    rem = 0 #the remainder\n",
    "    pattern = \"\"\n",
    "    q = k - 1 #set how many iterations to cycle through\n",
    "    while q >= 0:\n",
    "        rem = num%4 #get the remainder of the input number\n",
    "        num = num/4 #reset the next input number to be the previous value divded by 4\n",
    "        if rem < 1: #depending on what the remainder is, get a different letter output\n",
    "            pattern += \"A\"\n",
    "        if rem <2 and rem >=1:\n",
    "            pattern += \"C\"\n",
    "        if rem <3 and rem >= 2:\n",
    "            pattern += \"G\"\n",
    "        if rem < 4 and rem >=3:\n",
    "            pattern += \"T\"\n",
    "        q -= 1\n",
    "    pattern2 = pattern[::-1] #reverse the pattern\n",
    "    return pattern2\n",
    "\n",
    "NumberToPattern(45, 4)"
   ]
  },
  {
   "cell_type": "code",
   "execution_count": 7,
   "metadata": {},
   "outputs": [
    {
     "data": {
      "text/plain": [
       "'ACCACTAT'"
      ]
     },
     "execution_count": 7,
     "metadata": {},
     "output_type": "execute_result"
    }
   ],
   "source": [
    "#Return a sequence for each number\n",
    "#index is an integer that stands for the sequence\n",
    "#k is how long the sequence is (integer)\n",
    "def NumberToPattern(index, k):\n",
    "    num = index\n",
    "    rem = 0 #the remainder\n",
    "    pattern = \"\"\n",
    "    q = k - 1 #set how many iterations to cycle through\n",
    "    while q >= 0:\n",
    "        rem = num%4 #get the remainder of the input number\n",
    "        num = num/4 #reset the next input number to be the previous value divded by 4\n",
    "        if rem < 1: #depending on what the remainder is, get a different letter output\n",
    "            pattern += \"A\"\n",
    "        if rem <2 and rem >=1:\n",
    "            pattern += \"C\"\n",
    "        if rem <3 and rem >= 2:\n",
    "            pattern += \"G\"\n",
    "        if rem < 4 and rem >=3:\n",
    "            pattern += \"T\"\n",
    "        q -= 1\n",
    "    pattern2 = pattern[::-1] #reverse the pattern\n",
    "    return pattern2\n",
    "\n",
    "NumberToPattern(5235, 8)"
   ]
  },
  {
   "cell_type": "code",
   "execution_count": 8,
   "metadata": {},
   "outputs": [
    {
     "data": {
      "text/plain": [
       "2"
      ]
     },
     "execution_count": 8,
     "metadata": {},
     "output_type": "execute_result"
    }
   ],
   "source": [
    "#count how often a particular sequence motif occurs in a range of text\n",
    "#text is the sequence (string)\n",
    "#pattern is the motif (string)\n",
    "def PatternCount(text, pattern):\n",
    "    count = 0\n",
    "    for i in range(len(text)-len(pattern)+1): #want to shorten by the length of the pattern so you don't consider things shorter than the pattern\n",
    "        if pattern == text[i:(i+len(pattern))]:\n",
    "            count += 1\n",
    "    return count\n",
    "\n",
    "PatternCount('GCGCG', 'GCG')"
   ]
  },
  {
   "cell_type": "code",
   "execution_count": 9,
   "metadata": {},
   "outputs": [
    {
     "data": {
      "text/plain": [
       "['GCAT', 'CATG']"
      ]
     },
     "execution_count": 9,
     "metadata": {},
     "output_type": "execute_result"
    }
   ],
   "source": [
    "#want to find the most frequently occuring motifs in a sequence\n",
    "#text (string) is the sequence\n",
    "#k (integer) is how long the motif is\n",
    "def FrequentWords(text, k):\n",
    "    freq_patt = {} #use a dictionary to store all the motifs and add counts\n",
    "    count = 0\n",
    "    for i in range(len(text)-k+1): \n",
    "        pattern = text[i:i+k] #identify the motif\n",
    "        if pattern in freq_patt: #save computational power so you don't count for the same pattern multiple times\n",
    "            break\n",
    "        else:\n",
    "            counti = PatternCount(text, pattern) #cycle through sequence to see how frequently it occurs\n",
    "            freq_patt[pattern] = counti #set the count to the dictionary entry for that pattern\n",
    "    pat = []\n",
    "    m = max(freq_patt.values())\n",
    "    for key in freq_patt:\n",
    "        if freq_patt[key]==m:\n",
    "            pat += [key]\n",
    "    return pat\n",
    "\n",
    "text = \"ACGTTGCATGTCGCATGATGCATGAGAGCT\"\n",
    "\n",
    "FrequentWords(text, 4)"
   ]
  },
  {
   "cell_type": "code",
   "execution_count": 10,
   "metadata": {},
   "outputs": [
    {
     "data": {
      "text/plain": [
       "['GCAT', 'CATG']"
      ]
     },
     "execution_count": 10,
     "metadata": {},
     "output_type": "execute_result"
    }
   ],
   "source": [
    "#count how often a particular sequence motif occurs in a range of text\n",
    "#text is the sequence (string)\n",
    "#pattern is the motif (string)\n",
    "def PatternCount(text, pattern):\n",
    "    count = 0\n",
    "    for i in range(len(text)-len(pattern)+1): #want to shorten by the length of the pattern so you don't consider things shorter than the pattern\n",
    "        if pattern == text[i:(i+len(pattern))]:\n",
    "            count += 1\n",
    "    return count\n",
    "\n",
    "PatternCount(text, pattern)\n",
    "\n",
    "#want to find the most frequently occuring motifs in a sequence\n",
    "#text (string) is the sequence\n",
    "#k (integer) is how long the motif is\n",
    "def FrequentWords(text, k):\n",
    "    freq_patt = {} #use a dictionary to store all the motifs and add counts\n",
    "    count = 0\n",
    "    for i in range(len(text)-k+1): \n",
    "        pattern = text[i:i+k] #identify the motif\n",
    "        if pattern in freq_patt: #save computational power so you don't count for the same pattern multiple times\n",
    "            break\n",
    "        else:\n",
    "            counti = PatternCount(text, pattern) #cycle through sequence to see how frequently it occurs\n",
    "            freq_patt[pattern] = counti #set the count to the dictionary entry for that pattern\n",
    "    pat = []\n",
    "    m = max(freq_patt.values())\n",
    "    for key in freq_patt:\n",
    "        if freq_patt[key]==m:\n",
    "            pat += [key]\n",
    "    return pat\n",
    "\n",
    "text = \"ACGTTGCATGTCGCATGATGCATGAGAGCT\"\n",
    "\n",
    "FrequentWords(text, 4)"
   ]
  },
  {
   "cell_type": "code",
   "execution_count": 11,
   "metadata": {},
   "outputs": [
    {
     "data": {
      "text/plain": [
       "'ACCGGGTTTT'"
      ]
     },
     "execution_count": 11,
     "metadata": {},
     "output_type": "execute_result"
    }
   ],
   "source": [
    "#Make the reverse complement of a DNA sequence\n",
    "#text1 is the sequence (string)\n",
    "def ReverseComplement(text1):\n",
    "    output = \"\"\n",
    "    text = text1[::-1] #reverse string\n",
    "    for i in range(len(text)): #replace the nucleotide with its base pair\n",
    "        if text[i]==\"A\":\n",
    "            output += \"T\"\n",
    "        if text[i]==\"T\":\n",
    "            output += \"A\"\n",
    "        if text[i] == \"C\":\n",
    "            output+=\"G\"\n",
    "        if text[i]==\"G\":\n",
    "            output+=\"C\"\n",
    "    return output\n",
    "\n",
    "ReverseComplement('AAAACCCGGT')"
   ]
  },
  {
   "cell_type": "code",
   "execution_count": 13,
   "metadata": {},
   "outputs": [
    {
     "name": "stdout",
     "output_type": "stream",
     "text": [
      "1 3 9\n"
     ]
    }
   ],
   "source": [
    "#print at what positions in a string a pattern occurs\n",
    "#pattern (string) is the motif of interest\n",
    "#text (string) is the sequence\n",
    "def PatternMatching(pattern, text):\n",
    "    pos = []\n",
    "    for i in range(len(text)-len(pattern)+1): #go through the sequence\n",
    "        if text[i:i+len(pattern)]==pattern: #see if this portion of the text matches the pattern\n",
    "            pos.append((i)) #if so, document position\n",
    "    print(*pos, sep=\" \") #print out the positions separated by a space\n",
    "\n",
    "pattern = \"ATAT\"\n",
    "text = \"GATATATGCATATACTT\"\n",
    "\n",
    "PatternMatching(pattern, text)"
   ]
  },
  {
   "cell_type": "code",
   "execution_count": 14,
   "metadata": {},
   "outputs": [
    {
     "name": "stdout",
     "output_type": "stream",
     "text": [
      "CGACA GAAGA\n"
     ]
    }
   ],
   "source": [
    "#Find k-mers that are repeated at least t times in a l length clump\n",
    "#k (integer) is the lenght of the motif we're looking for\n",
    "#genome is the sequence (string) that contain potential motifs\n",
    "#t (integer) is how frequently a motif must appear to be considered\n",
    "#l (integer) is the length of sequence that we're looking at for the repetition\n",
    "def Clump(genome, k, l, t):\n",
    "    dic = {}\n",
    "    sequences = {}\n",
    "    for i in range(l-k+1): #for the first area with the length of interest, record all the morifs and how frequently they occur\n",
    "        if genome[i:(i+k)] in dic: \n",
    "            dic[genome[i:(i+k)]] += 1\n",
    "        else:\n",
    "            dic[genome[i:(i+k)]] = 1\n",
    "        #print(dic)\n",
    "    for i in range(l, len(genome)): #now want to look at the remainder of the genome after the first l basepairs\n",
    "        for key in dic:\n",
    "            if dic[key] >= t: #if a key has at least t occurrences in the first length l, then add it to the sequences dictionary\n",
    "                sequences[key] = \"\"\n",
    "                #print(sequences)\n",
    "                #print(dic)\n",
    "        dic[genome[i-l:(i-l+k)]] -= 1 #now going to go after l basepairs and need to remove a sequence count that's now out of that range.\n",
    "        if genome[i-k+1:(i+1)] in dic: #for the new sequence, see if it's already in the dictionary. If so, add a count.\n",
    "            dic[genome[i-k+1:(i+1)]] += 1        \n",
    "        else: #if it's not in the dictionary, add it to the dictionary\n",
    "            dic[genome[i-k+1:(i+1)]] = 1\n",
    "    print(*list(sequences.keys()), sep=\" \") #print out all the sequences that are \"clumped\"\n",
    "\n",
    "\n",
    "Clump('CGGACTCGACAGATGTGAAGAACGACAATGTGAAGACTCGACACGACAGAGTGAAGAGAAGAGGAAACATTGTAA', 5, 50, 4)"
   ]
  },
  {
   "cell_type": "code",
   "execution_count": 15,
   "metadata": {},
   "outputs": [
    {
     "data": {
      "text/plain": [
       "{0: 2,\n",
       " 1: 1,\n",
       " 2: 0,\n",
       " 3: 0,\n",
       " 4: 0,\n",
       " 5: 0,\n",
       " 6: 2,\n",
       " 7: 2,\n",
       " 8: 1,\n",
       " 9: 2,\n",
       " 10: 1,\n",
       " 11: 0,\n",
       " 12: 0,\n",
       " 13: 1,\n",
       " 14: 1,\n",
       " 15: 0}"
      ]
     },
     "execution_count": 15,
     "metadata": {},
     "output_type": "execute_result"
    }
   ],
   "source": [
    "#An alternate way to count how many occurences of a pattern there are\n",
    "#text is the sequence of interest (string)\n",
    "#k is how long of a motif you're interested in\n",
    "def ComputingFrequencies(text, k):\n",
    "    freq = {}\n",
    "    pattern = \"\"\n",
    "#    list = []\n",
    "    for i in range(4**k):\n",
    "        freq[i] = 0 #set up dictionary with all possible values\n",
    "    for i in range(len(text)-k+1): \n",
    "        pattern = text[i:i+k]\n",
    "        j = PatternToNumber(pattern) #turn all patterns into numbers\n",
    "        freq[j]+=1 #add a count for each detected pattern that you generated earlier\n",
    "#    for i in range(4**k):\n",
    "#        list.append(freq[i]) \n",
    "    return freq\n",
    "\n",
    "ComputingFrequencies(\"ACGCGGCTCTGAAA\", 2)"
   ]
  },
  {
   "cell_type": "code",
   "execution_count": 16,
   "metadata": {},
   "outputs": [
    {
     "name": "stdout",
     "output_type": "stream",
     "text": [
      "912\n"
     ]
    }
   ],
   "source": [
    "#Assign a pattern to a number to supposedly save memory\n",
    "#pattern is a sequence (string)\n",
    "def PatternToNumber(pattern):\n",
    "    pattern = pattern[::-1] #reverse the sequence\n",
    "    q = len(pattern) - 1 #set a number to count down for the number of iterations\n",
    "    number = 0\n",
    "    while q >= 0 : #different sequence values equal different numbers\n",
    "        if pattern[q] == 'A':\n",
    "            num = 0\n",
    "        if pattern[q] == 'C':\n",
    "            num = 1\n",
    "        if pattern[q] == 'G':\n",
    "            num = 2\n",
    "        if pattern[q] == 'T':\n",
    "            num = 3\n",
    "        number += (num * (4**q)) #keep adding a value for each sequence and position\n",
    "        q -= 1\n",
    "    return(number)\n",
    "\n",
    "pattern = \"ATGCAA\"\n",
    "print(PatternToNumber(pattern))"
   ]
  },
  {
   "cell_type": "code",
   "execution_count": 17,
   "metadata": {},
   "outputs": [
    {
     "name": "stdout",
     "output_type": "stream",
     "text": [
      "11\n"
     ]
    }
   ],
   "source": [
    "#Assign a pattern to a number to supposedly save memory\n",
    "#pattern is a sequence (string)\n",
    "def PatternToNumber(pattern):\n",
    "    pattern = pattern[::-1] #reverse the sequence\n",
    "    q = len(pattern) - 1 #set a number to count down for the number of iterations\n",
    "    number = 0\n",
    "    while q >= 0 : #different sequence values equal different numbers\n",
    "        if pattern[q] == 'A':\n",
    "            num = 0\n",
    "        if pattern[q] == 'C':\n",
    "            num = 1\n",
    "        if pattern[q] == 'G':\n",
    "            num = 2\n",
    "        if pattern[q] == 'T':\n",
    "            num = 3\n",
    "        number += (num * (4**q)) #keep adding a value for each sequence and position\n",
    "        q -= 1\n",
    "    return(number)\n",
    "\n",
    "pattern = \"AGT\"\n",
    "print(PatternToNumber(pattern))"
   ]
  },
  {
   "cell_type": "code",
   "execution_count": 18,
   "metadata": {},
   "outputs": [
    {
     "data": {
      "text/plain": [
       "'CCCATTC'"
      ]
     },
     "execution_count": 18,
     "metadata": {},
     "output_type": "execute_result"
    }
   ],
   "source": [
    "#Return a sequence for each number\n",
    "#index is an integer that stands for the sequence\n",
    "#k is how long the sequence is (integer)\n",
    "def NumberToPattern(index, k):\n",
    "    num = index\n",
    "    rem = 0 #the remainder\n",
    "    pattern = \"\"\n",
    "    q = k - 1 #set how many iterations to cycle through\n",
    "    while q >= 0:\n",
    "        rem = num%4 #get the remainder of the input number\n",
    "        num = num/4 #reset the next input number to be the previous value divded by 4\n",
    "        if rem < 1: #depending on what the remainder is, get a different letter output\n",
    "            pattern += \"A\"\n",
    "        if rem <2 and rem >=1:\n",
    "            pattern += \"C\"\n",
    "        if rem <3 and rem >= 2:\n",
    "            pattern += \"G\"\n",
    "        if rem < 4 and rem >=3:\n",
    "            pattern += \"T\"\n",
    "        q -= 1\n",
    "    pattern2 = pattern[::-1] #reverse the pattern\n",
    "    return pattern2\n",
    "\n",
    "NumberToPattern(5437, 7)"
   ]
  },
  {
   "cell_type": "code",
   "execution_count": 19,
   "metadata": {},
   "outputs": [
    {
     "data": {
      "text/plain": [
       "'ACCCATTC'"
      ]
     },
     "execution_count": 19,
     "metadata": {},
     "output_type": "execute_result"
    }
   ],
   "source": [
    "#Return a sequence for each number\n",
    "#index is an integer that stands for the sequence\n",
    "#k is how long the sequence is (integer)\n",
    "def NumberToPattern(index, k):\n",
    "    num = index\n",
    "    rem = 0 #the remainder\n",
    "    pattern = \"\"\n",
    "    q = k - 1 #set how many iterations to cycle through\n",
    "    while q >= 0:\n",
    "        rem = num%4 #get the remainder of the input number\n",
    "        num = num/4 #reset the next input number to be the previous value divded by 4\n",
    "        if rem < 1: #depending on what the remainder is, get a different letter output\n",
    "            pattern += \"A\"\n",
    "        if rem <2 and rem >=1:\n",
    "            pattern += \"C\"\n",
    "        if rem <3 and rem >= 2:\n",
    "            pattern += \"G\"\n",
    "        if rem < 4 and rem >=3:\n",
    "            pattern += \"T\"\n",
    "        q -= 1\n",
    "    pattern2 = pattern[::-1] #reverse the pattern\n",
    "    return pattern2\n",
    "\n",
    "NumberToPattern(5437, 8)"
   ]
  },
  {
   "cell_type": "code",
   "execution_count": 20,
   "metadata": {},
   "outputs": [
    {
     "data": {
      "text/plain": [
       "'AGTC'"
      ]
     },
     "execution_count": 20,
     "metadata": {},
     "output_type": "execute_result"
    }
   ],
   "source": [
    "#Return a sequence for each number\n",
    "#index is an integer that stands for the sequence\n",
    "#k is how long the sequence is (integer)\n",
    "def NumberToPattern(index, k):\n",
    "    num = index\n",
    "    rem = 0 #the remainder\n",
    "    pattern = \"\"\n",
    "    q = k - 1 #set how many iterations to cycle through\n",
    "    while q >= 0:\n",
    "        rem = num%4 #get the remainder of the input number\n",
    "        num = num/4 #reset the next input number to be the previous value divded by 4\n",
    "        if rem < 1: #depending on what the remainder is, get a different letter output\n",
    "            pattern += \"A\"\n",
    "        if rem <2 and rem >=1:\n",
    "            pattern += \"C\"\n",
    "        if rem <3 and rem >= 2:\n",
    "            pattern += \"G\"\n",
    "        if rem < 4 and rem >=3:\n",
    "            pattern += \"T\"\n",
    "        q -= 1\n",
    "    pattern2 = pattern[::-1] #reverse the pattern\n",
    "    return pattern2\n",
    "\n",
    "NumberToPattern(45, 4)"
   ]
  },
  {
   "cell_type": "code",
   "execution_count": null,
   "metadata": {},
   "outputs": [],
   "source": []
  }
 ],
 "metadata": {
  "kernelspec": {
   "display_name": "Python 3",
   "language": "python",
   "name": "python3"
  },
  "language_info": {
   "codemirror_mode": {
    "name": "ipython",
    "version": 3
   },
   "file_extension": ".py",
   "mimetype": "text/x-python",
   "name": "python",
   "nbconvert_exporter": "python",
   "pygments_lexer": "ipython3",
   "version": "3.7.4"
  }
 },
 "nbformat": 4,
 "nbformat_minor": 4
}
