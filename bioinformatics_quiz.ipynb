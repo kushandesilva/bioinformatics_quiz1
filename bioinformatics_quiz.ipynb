{
 "cells": [
  {
   "cell_type": "code",
   "execution_count": 3,
   "metadata": {},
   "outputs": [
    {
     "name": "stdout",
     "output_type": "stream",
     "text": [
      "6\n"
     ]
    }
   ],
   "source": [
    "nStr = 'GACCATCAAAACTGATAAACTACTTAAAAATCAGT'\n",
    "pattern = 'AAA'\n",
    "count =0\n",
    "flag=True\n",
    "start=0\n",
    "while flag:\n",
    "    a = nStr.find(pattern,start)  # find() returns -1 if the word is not found, \n",
    "                                  #start i the starting index from the search starts(default value is 0)\n",
    "    if a==-1:          #if pattern not found set flag to False\n",
    "        flag=False\n",
    "    else:               # if word is found increase count and set starting index to a+1\n",
    "        count+=1        \n",
    "        start=a+1\n",
    "print(count)"
   ]
  },
  {
   "cell_type": "code",
   "execution_count": 7,
   "metadata": {},
   "outputs": [
    {
     "name": "stdout",
     "output_type": "stream",
     "text": [
      "120031944903\n"
     ]
    }
   ],
   "source": [
    "import random\n",
    "import sys\n",
    "import numpy as np\n",
    "from itertools import groupby\n",
    "\n",
    "baseToNumber = {'A':0, 'C':1, 'G':2, 'T':3}\n",
    "numberToBase = {0:'A', 1:'C', 2:'G', 3:'T'}\n",
    "def patternToNumber(pattern, index=0):\n",
    "    pattern = pattern[::-1]\n",
    "    for i, base in enumerate(pattern):\n",
    "        # print (pattern)\n",
    "        index += baseToNumber[base] * (4**i)\n",
    "    return index\n",
    "\n",
    "index = patternToNumber(\"ACGTTTAGCTCGAGAATACT\")\n",
    "print (index)"
   ]
  },
  {
   "cell_type": "code",
   "execution_count": 11,
   "metadata": {},
   "outputs": [
    {
     "name": "stdout",
     "output_type": "stream",
     "text": [
      "[('CC', 4)]\n"
     ]
    }
   ],
   "source": [
    "from itertools import tee\n",
    "from collections import Counter\n",
    "\n",
    "dna = \"GATCCAGATCCCCATAC\"\n",
    "a, b = tee(iter(dna), 2)\n",
    "_ = next(b)\n",
    "c = Counter(''.join(l) for l in zip(a,b))\n",
    "print(c.most_common(1))"
   ]
  },
  {
   "cell_type": "code",
   "execution_count": 27,
   "metadata": {},
   "outputs": [
    {
     "name": "stdout",
     "output_type": "stream",
     "text": [
      "[('AT', 4)]\n"
     ]
    }
   ],
   "source": [
    "from itertools import tee\n",
    "from collections import Counter\n",
    "\n",
    "dna = \"GATCCAGATAGCCTAGGCATCATAC\"\n",
    "a, b = tee(iter(dna), 2)\n",
    "_ = next(b)\n",
    "c = Counter(''.join(l) for l in zip(a,b))\n",
    "print(c.most_common(1))"
   ]
  },
  {
   "cell_type": "code",
   "execution_count": 20,
   "metadata": {},
   "outputs": [
    {
     "data": {
      "text/plain": [
       "Counter({('G', 'A', 'T'): 2,\n",
       "         ('A', 'T', 'C'): 2,\n",
       "         ('T', 'C', 'C'): 2,\n",
       "         ('C', 'C', 'A'): 2,\n",
       "         ('C', 'A', 'G'): 1,\n",
       "         ('A', 'G', 'A'): 1,\n",
       "         ('C', 'C', 'C'): 2,\n",
       "         ('C', 'A', 'T'): 1,\n",
       "         ('A', 'T', 'A'): 1,\n",
       "         ('T', 'A', 'C'): 1})"
      ]
     },
     "execution_count": 20,
     "metadata": {},
     "output_type": "execute_result"
    }
   ],
   "source": [
    "from collections import Counter\n",
    "import more_itertools\n",
    "\n",
    "s = \"GATCCAGATCCCCATAC\"\n",
    "Counter(more_itertools.windowed(s, 3))"
   ]
  },
  {
   "cell_type": "code",
   "execution_count": 21,
   "metadata": {},
   "outputs": [
    {
     "data": {
      "text/plain": [
       "Counter({('C', 'G', 'G'): 1,\n",
       "         ('G', 'G', 'A'): 3,\n",
       "         ('G', 'A', 'G'): 1,\n",
       "         ('A', 'G', 'G'): 4,\n",
       "         ('G', 'A', 'C'): 2,\n",
       "         ('A', 'C', 'T'): 1,\n",
       "         ('C', 'T', 'C'): 1,\n",
       "         ('T', 'C', 'T'): 1,\n",
       "         ('C', 'T', 'A'): 1,\n",
       "         ('T', 'A', 'G'): 2,\n",
       "         ('G', 'G', 'T'): 2,\n",
       "         ('G', 'T', 'A'): 1,\n",
       "         ('T', 'A', 'A'): 1,\n",
       "         ('A', 'A', 'C'): 1,\n",
       "         ('A', 'C', 'G'): 1,\n",
       "         ('C', 'G', 'C'): 1,\n",
       "         ('G', 'C', 'T'): 1,\n",
       "         ('C', 'T', 'T'): 1,\n",
       "         ('T', 'T', 'A'): 1,\n",
       "         ('T', 'A', 'T'): 1,\n",
       "         ('A', 'T', 'C'): 1,\n",
       "         ('T', 'C', 'A'): 2,\n",
       "         ('C', 'A', 'G'): 1,\n",
       "         ('G', 'T', 'C'): 1,\n",
       "         ('T', 'C', 'C'): 1,\n",
       "         ('C', 'C', 'A'): 1,\n",
       "         ('C', 'A', 'T'): 2,\n",
       "         ('A', 'T', 'A'): 1,\n",
       "         ('A', 'C', 'A'): 1,\n",
       "         ('A', 'T', 'T'): 1,\n",
       "         ('T', 'T', 'C'): 1})"
      ]
     },
     "execution_count": 21,
     "metadata": {},
     "output_type": "execute_result"
    }
   ],
   "source": [
    "from collections import Counter\n",
    "import more_itertools\n",
    "\n",
    "s = \"CGGAGGACTCTAGGTAACGCTTATCAGGTCCATAGGACATTCA\"\n",
    "Counter(more_itertools.windowed(s, 3))"
   ]
  },
  {
   "cell_type": "code",
   "execution_count": 25,
   "metadata": {},
   "outputs": [
    {
     "name": "stdout",
     "output_type": "stream",
     "text": [
      "Starting Position found at 0\n",
      "Starting Position found at 1\n",
      "Starting Position found at 12\n"
     ]
    }
   ],
   "source": [
    "### the PatternMatching function finds all occurrences of a pattern in a string ###\n",
    "### Input: Pattern and Genome ###\n",
    "### written by Daniel Hanks Jr ###\n",
    "\n",
    "def PatternMatching(Pattern, Genome):\n",
    "    index = 0\n",
    "    while index < len(Genome):\n",
    "        index = Genome.find(Pattern, index)\n",
    "        if index == -1:\n",
    "            break\n",
    "        print('Starting Position found at', index)\n",
    "        index += 1 \n",
    "\n",
    "Pattern = 'AA'\n",
    "Genome = 'AAACATAGGATCAAC '\n",
    "\n",
    "PatternMatching(Pattern, Genome)"
   ]
  },
  {
   "cell_type": "code",
   "execution_count": null,
   "metadata": {},
   "outputs": [],
   "source": []
  }
 ],
 "metadata": {
  "kernelspec": {
   "display_name": "Python 3",
   "language": "python",
   "name": "python3"
  },
  "language_info": {
   "codemirror_mode": {
    "name": "ipython",
    "version": 3
   },
   "file_extension": ".py",
   "mimetype": "text/x-python",
   "name": "python",
   "nbconvert_exporter": "python",
   "pygments_lexer": "ipython3",
   "version": "3.7.4"
  }
 },
 "nbformat": 4,
 "nbformat_minor": 4
}
